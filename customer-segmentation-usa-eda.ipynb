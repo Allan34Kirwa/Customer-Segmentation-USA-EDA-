{
 "cells": [
  {
   "cell_type": "code",
   "execution_count": 1,
   "id": "5aa65258",
   "metadata": {
    "_cell_guid": "b1076dfc-b9ad-4769-8c92-a6c4dae69d19",
    "_uuid": "8f2839f25d086af736a60e9eeb907d3b93b6e0e5",
    "execution": {
     "iopub.execute_input": "2024-04-05T07:58:00.934905Z",
     "iopub.status.busy": "2024-04-05T07:58:00.934019Z",
     "iopub.status.idle": "2024-04-05T07:58:03.657940Z",
     "shell.execute_reply": "2024-04-05T07:58:03.656499Z"
    },
    "papermill": {
     "duration": 2.749217,
     "end_time": "2024-04-05T07:58:03.661138",
     "exception": false,
     "start_time": "2024-04-05T07:58:00.911921",
     "status": "completed"
    },
    "tags": []
   },
   "outputs": [
    {
     "name": "stdout",
     "output_type": "stream",
     "text": [
      "/kaggle/input/survey-of-consumer-finances-data/SCFP2019.csv\n",
      "/kaggle/input/data-dictionary-for-customer-segmentation-usa/hcbk.htm\n"
     ]
    }
   ],
   "source": [
    "import matplotlib.pyplot as plt\n",
    "import pandas as pd\n",
    "import seaborn as sns\n",
    "import os\n",
    "for dirname, _, filenames in os.walk('/kaggle/input'):\n",
    "    for filename in filenames:\n",
    "        print(os.path.join(dirname, filename))\n",
    "\n"
   ]
  },
  {
   "cell_type": "markdown",
   "id": "362829d2",
   "metadata": {
    "papermill": {
     "duration": 0.018242,
     "end_time": "2024-04-05T07:58:03.699199",
     "exception": false,
     "start_time": "2024-04-05T07:58:03.680957",
     "status": "completed"
    },
    "tags": []
   },
   "source": [
    "`1. Prepare Data`"
   ]
  },
  {
   "cell_type": "markdown",
   "id": "4a729b68",
   "metadata": {
    "papermill": {
     "duration": 0.01867,
     "end_time": "2024-04-05T07:58:03.736262",
     "exception": false,
     "start_time": "2024-04-05T07:58:03.717592",
     "status": "completed"
    },
    "tags": []
   },
   "source": [
    "I will have to load the data, which is stored in a compressed CSV file: SCFP2019.csv.gz"
   ]
  },
  {
   "cell_type": "markdown",
   "id": "da209317",
   "metadata": {
    "papermill": {
     "duration": 0.017849,
     "end_time": "2024-04-05T07:58:03.773909",
     "exception": false,
     "start_time": "2024-04-05T07:58:03.756060",
     "status": "completed"
    },
    "tags": []
   },
   "source": [
    " Read the file \"data/SCFP2019.csv.gz\" into the DataFrame df"
   ]
  },
  {
   "cell_type": "code",
   "execution_count": 2,
   "id": "0308c388",
   "metadata": {
    "execution": {
     "iopub.execute_input": "2024-04-05T07:58:03.813329Z",
     "iopub.status.busy": "2024-04-05T07:58:03.812000Z",
     "iopub.status.idle": "2024-04-05T07:58:05.716928Z",
     "shell.execute_reply": "2024-04-05T07:58:05.715419Z"
    },
    "papermill": {
     "duration": 1.927501,
     "end_time": "2024-04-05T07:58:05.719672",
     "exception": false,
     "start_time": "2024-04-05T07:58:03.792171",
     "status": "completed"
    },
    "tags": []
   },
   "outputs": [
    {
     "name": "stdout",
     "output_type": "stream",
     "text": [
      "df type: <class 'pandas.core.frame.DataFrame'>\n",
      "df shape: (28885, 356)\n"
     ]
    },
    {
     "data": {
      "text/html": [
       "<div>\n",
       "<style scoped>\n",
       "    .dataframe tbody tr th:only-of-type {\n",
       "        vertical-align: middle;\n",
       "    }\n",
       "\n",
       "    .dataframe tbody tr th {\n",
       "        vertical-align: top;\n",
       "    }\n",
       "\n",
       "    .dataframe thead th {\n",
       "        text-align: right;\n",
       "    }\n",
       "</style>\n",
       "<table border=\"1\" class=\"dataframe\">\n",
       "  <thead>\n",
       "    <tr style=\"text-align: right;\">\n",
       "      <th></th>\n",
       "      <th>YY1</th>\n",
       "      <th>Y1</th>\n",
       "      <th>WGT</th>\n",
       "      <th>HHSEX</th>\n",
       "      <th>AGE</th>\n",
       "      <th>AGECL</th>\n",
       "      <th>EDUC</th>\n",
       "      <th>EDCL</th>\n",
       "      <th>MARRIED</th>\n",
       "      <th>KIDS</th>\n",
       "      <th>...</th>\n",
       "      <th>NWCAT</th>\n",
       "      <th>INCCAT</th>\n",
       "      <th>ASSETCAT</th>\n",
       "      <th>NINCCAT</th>\n",
       "      <th>NINC2CAT</th>\n",
       "      <th>NWPCTLECAT</th>\n",
       "      <th>INCPCTLECAT</th>\n",
       "      <th>NINCPCTLECAT</th>\n",
       "      <th>INCQRTCAT</th>\n",
       "      <th>NINCQRTCAT</th>\n",
       "    </tr>\n",
       "  </thead>\n",
       "  <tbody>\n",
       "    <tr>\n",
       "      <th>0</th>\n",
       "      <td>1</td>\n",
       "      <td>11</td>\n",
       "      <td>6119.779308</td>\n",
       "      <td>2</td>\n",
       "      <td>75</td>\n",
       "      <td>6</td>\n",
       "      <td>12</td>\n",
       "      <td>4</td>\n",
       "      <td>2</td>\n",
       "      <td>0</td>\n",
       "      <td>...</td>\n",
       "      <td>5</td>\n",
       "      <td>3</td>\n",
       "      <td>6</td>\n",
       "      <td>3</td>\n",
       "      <td>2</td>\n",
       "      <td>10</td>\n",
       "      <td>6</td>\n",
       "      <td>6</td>\n",
       "      <td>3</td>\n",
       "      <td>3</td>\n",
       "    </tr>\n",
       "    <tr>\n",
       "      <th>1</th>\n",
       "      <td>1</td>\n",
       "      <td>12</td>\n",
       "      <td>4712.374912</td>\n",
       "      <td>2</td>\n",
       "      <td>75</td>\n",
       "      <td>6</td>\n",
       "      <td>12</td>\n",
       "      <td>4</td>\n",
       "      <td>2</td>\n",
       "      <td>0</td>\n",
       "      <td>...</td>\n",
       "      <td>5</td>\n",
       "      <td>3</td>\n",
       "      <td>6</td>\n",
       "      <td>3</td>\n",
       "      <td>1</td>\n",
       "      <td>10</td>\n",
       "      <td>5</td>\n",
       "      <td>5</td>\n",
       "      <td>2</td>\n",
       "      <td>2</td>\n",
       "    </tr>\n",
       "    <tr>\n",
       "      <th>2</th>\n",
       "      <td>1</td>\n",
       "      <td>13</td>\n",
       "      <td>5145.224455</td>\n",
       "      <td>2</td>\n",
       "      <td>75</td>\n",
       "      <td>6</td>\n",
       "      <td>12</td>\n",
       "      <td>4</td>\n",
       "      <td>2</td>\n",
       "      <td>0</td>\n",
       "      <td>...</td>\n",
       "      <td>5</td>\n",
       "      <td>3</td>\n",
       "      <td>6</td>\n",
       "      <td>3</td>\n",
       "      <td>1</td>\n",
       "      <td>10</td>\n",
       "      <td>5</td>\n",
       "      <td>5</td>\n",
       "      <td>2</td>\n",
       "      <td>2</td>\n",
       "    </tr>\n",
       "    <tr>\n",
       "      <th>3</th>\n",
       "      <td>1</td>\n",
       "      <td>14</td>\n",
       "      <td>5297.663412</td>\n",
       "      <td>2</td>\n",
       "      <td>75</td>\n",
       "      <td>6</td>\n",
       "      <td>12</td>\n",
       "      <td>4</td>\n",
       "      <td>2</td>\n",
       "      <td>0</td>\n",
       "      <td>...</td>\n",
       "      <td>5</td>\n",
       "      <td>2</td>\n",
       "      <td>6</td>\n",
       "      <td>2</td>\n",
       "      <td>1</td>\n",
       "      <td>10</td>\n",
       "      <td>4</td>\n",
       "      <td>4</td>\n",
       "      <td>2</td>\n",
       "      <td>2</td>\n",
       "    </tr>\n",
       "    <tr>\n",
       "      <th>4</th>\n",
       "      <td>1</td>\n",
       "      <td>15</td>\n",
       "      <td>4761.812371</td>\n",
       "      <td>2</td>\n",
       "      <td>75</td>\n",
       "      <td>6</td>\n",
       "      <td>12</td>\n",
       "      <td>4</td>\n",
       "      <td>2</td>\n",
       "      <td>0</td>\n",
       "      <td>...</td>\n",
       "      <td>5</td>\n",
       "      <td>3</td>\n",
       "      <td>6</td>\n",
       "      <td>3</td>\n",
       "      <td>1</td>\n",
       "      <td>10</td>\n",
       "      <td>5</td>\n",
       "      <td>5</td>\n",
       "      <td>2</td>\n",
       "      <td>2</td>\n",
       "    </tr>\n",
       "  </tbody>\n",
       "</table>\n",
       "<p>5 rows × 356 columns</p>\n",
       "</div>"
      ],
      "text/plain": [
       "   YY1  Y1          WGT  HHSEX  AGE  AGECL  EDUC  EDCL  MARRIED  KIDS  ...  \\\n",
       "0    1  11  6119.779308      2   75      6    12     4        2     0  ...   \n",
       "1    1  12  4712.374912      2   75      6    12     4        2     0  ...   \n",
       "2    1  13  5145.224455      2   75      6    12     4        2     0  ...   \n",
       "3    1  14  5297.663412      2   75      6    12     4        2     0  ...   \n",
       "4    1  15  4761.812371      2   75      6    12     4        2     0  ...   \n",
       "\n",
       "   NWCAT  INCCAT  ASSETCAT  NINCCAT  NINC2CAT  NWPCTLECAT  INCPCTLECAT  \\\n",
       "0      5       3         6        3         2          10            6   \n",
       "1      5       3         6        3         1          10            5   \n",
       "2      5       3         6        3         1          10            5   \n",
       "3      5       2         6        2         1          10            4   \n",
       "4      5       3         6        3         1          10            5   \n",
       "\n",
       "   NINCPCTLECAT  INCQRTCAT  NINCQRTCAT  \n",
       "0             6          3           3  \n",
       "1             5          2           2  \n",
       "2             5          2           2  \n",
       "3             4          2           2  \n",
       "4             5          2           2  \n",
       "\n",
       "[5 rows x 356 columns]"
      ]
     },
     "execution_count": 2,
     "metadata": {},
     "output_type": "execute_result"
    }
   ],
   "source": [
    "df = pd.read_csv(\"/kaggle/input/survey-of-consumer-finances-data/SCFP2019.csv\")\n",
    "print(\"df type:\", type(df))\n",
    "print(\"df shape:\", df.shape)\n",
    "df.head()"
   ]
  },
  {
   "cell_type": "markdown",
   "id": "63a0f329",
   "metadata": {
    "papermill": {
     "duration": 0.018114,
     "end_time": "2024-04-05T07:58:05.756654",
     "exception": false,
     "start_time": "2024-04-05T07:58:05.738540",
     "status": "completed"
    },
    "tags": []
   },
   "source": [
    "One of the first things you might notice here is that this dataset is HUGE — over 20,000 rows and 356 columns! SO MUCH DATA!!! We won't have time to explore all of the features in this dataset, but you can look in the data dictionary for this project for details and links to the official Code Book. For now, let's just say that this dataset tracks all sorts of behaviors relating to the ways households earn, save, and spend money in the United States.\n",
    "\n",
    "For this project, we're going to focus on households that have \"been turned down for credit or feared being denied credit in the past 5 years.\" These households are identified in the \"TURNFEAR\" column."
   ]
  },
  {
   "cell_type": "markdown",
   "id": "3a430f10",
   "metadata": {
    "papermill": {
     "duration": 0.017888,
     "end_time": "2024-04-05T07:58:05.792892",
     "exception": false,
     "start_time": "2024-04-05T07:58:05.775004",
     "status": "completed"
    },
    "tags": []
   },
   "source": [
    "Use amask to subset create df to only households that have been turned down or feared being turned down for credit (\"TURNFEAR\" == 1). Assign this subset to the variable name df_fear."
   ]
  },
  {
   "cell_type": "code",
   "execution_count": 3,
   "id": "5f31944c",
   "metadata": {
    "execution": {
     "iopub.execute_input": "2024-04-05T07:58:05.832554Z",
     "iopub.status.busy": "2024-04-05T07:58:05.831299Z",
     "iopub.status.idle": "2024-04-05T07:58:05.842662Z",
     "shell.execute_reply": "2024-04-05T07:58:05.841503Z"
    },
    "papermill": {
     "duration": 0.03434,
     "end_time": "2024-04-05T07:58:05.845380",
     "exception": false,
     "start_time": "2024-04-05T07:58:05.811040",
     "status": "completed"
    },
    "tags": []
   },
   "outputs": [
    {
     "data": {
      "text/plain": [
       "4623"
      ]
     },
     "execution_count": 3,
     "metadata": {},
     "output_type": "execute_result"
    }
   ],
   "source": [
    "mask = df[\"TURNFEAR\"] == 1\n",
    "mask.sum()"
   ]
  },
  {
   "cell_type": "code",
   "execution_count": 4,
   "id": "b08afe28",
   "metadata": {
    "execution": {
     "iopub.execute_input": "2024-04-05T07:58:05.892768Z",
     "iopub.status.busy": "2024-04-05T07:58:05.891855Z",
     "iopub.status.idle": "2024-04-05T07:58:05.933399Z",
     "shell.execute_reply": "2024-04-05T07:58:05.931939Z"
    },
    "papermill": {
     "duration": 0.068665,
     "end_time": "2024-04-05T07:58:05.938265",
     "exception": false,
     "start_time": "2024-04-05T07:58:05.869600",
     "status": "completed"
    },
    "tags": []
   },
   "outputs": [
    {
     "name": "stdout",
     "output_type": "stream",
     "text": [
      "df_fear type: <class 'pandas.core.frame.DataFrame'>\n",
      "df_fear shape: (4623, 356)\n"
     ]
    },
    {
     "data": {
      "text/html": [
       "<div>\n",
       "<style scoped>\n",
       "    .dataframe tbody tr th:only-of-type {\n",
       "        vertical-align: middle;\n",
       "    }\n",
       "\n",
       "    .dataframe tbody tr th {\n",
       "        vertical-align: top;\n",
       "    }\n",
       "\n",
       "    .dataframe thead th {\n",
       "        text-align: right;\n",
       "    }\n",
       "</style>\n",
       "<table border=\"1\" class=\"dataframe\">\n",
       "  <thead>\n",
       "    <tr style=\"text-align: right;\">\n",
       "      <th></th>\n",
       "      <th>YY1</th>\n",
       "      <th>Y1</th>\n",
       "      <th>WGT</th>\n",
       "      <th>HHSEX</th>\n",
       "      <th>AGE</th>\n",
       "      <th>AGECL</th>\n",
       "      <th>EDUC</th>\n",
       "      <th>EDCL</th>\n",
       "      <th>MARRIED</th>\n",
       "      <th>KIDS</th>\n",
       "      <th>...</th>\n",
       "      <th>NWCAT</th>\n",
       "      <th>INCCAT</th>\n",
       "      <th>ASSETCAT</th>\n",
       "      <th>NINCCAT</th>\n",
       "      <th>NINC2CAT</th>\n",
       "      <th>NWPCTLECAT</th>\n",
       "      <th>INCPCTLECAT</th>\n",
       "      <th>NINCPCTLECAT</th>\n",
       "      <th>INCQRTCAT</th>\n",
       "      <th>NINCQRTCAT</th>\n",
       "    </tr>\n",
       "  </thead>\n",
       "  <tbody>\n",
       "    <tr>\n",
       "      <th>5</th>\n",
       "      <td>2</td>\n",
       "      <td>21</td>\n",
       "      <td>3790.476607</td>\n",
       "      <td>1</td>\n",
       "      <td>50</td>\n",
       "      <td>3</td>\n",
       "      <td>8</td>\n",
       "      <td>2</td>\n",
       "      <td>1</td>\n",
       "      <td>3</td>\n",
       "      <td>...</td>\n",
       "      <td>1</td>\n",
       "      <td>2</td>\n",
       "      <td>1</td>\n",
       "      <td>2</td>\n",
       "      <td>1</td>\n",
       "      <td>1</td>\n",
       "      <td>4</td>\n",
       "      <td>4</td>\n",
       "      <td>2</td>\n",
       "      <td>2</td>\n",
       "    </tr>\n",
       "    <tr>\n",
       "      <th>6</th>\n",
       "      <td>2</td>\n",
       "      <td>22</td>\n",
       "      <td>3798.868505</td>\n",
       "      <td>1</td>\n",
       "      <td>50</td>\n",
       "      <td>3</td>\n",
       "      <td>8</td>\n",
       "      <td>2</td>\n",
       "      <td>1</td>\n",
       "      <td>3</td>\n",
       "      <td>...</td>\n",
       "      <td>1</td>\n",
       "      <td>2</td>\n",
       "      <td>1</td>\n",
       "      <td>2</td>\n",
       "      <td>1</td>\n",
       "      <td>1</td>\n",
       "      <td>4</td>\n",
       "      <td>3</td>\n",
       "      <td>2</td>\n",
       "      <td>2</td>\n",
       "    </tr>\n",
       "    <tr>\n",
       "      <th>7</th>\n",
       "      <td>2</td>\n",
       "      <td>23</td>\n",
       "      <td>3799.468393</td>\n",
       "      <td>1</td>\n",
       "      <td>50</td>\n",
       "      <td>3</td>\n",
       "      <td>8</td>\n",
       "      <td>2</td>\n",
       "      <td>1</td>\n",
       "      <td>3</td>\n",
       "      <td>...</td>\n",
       "      <td>1</td>\n",
       "      <td>2</td>\n",
       "      <td>1</td>\n",
       "      <td>2</td>\n",
       "      <td>1</td>\n",
       "      <td>1</td>\n",
       "      <td>4</td>\n",
       "      <td>4</td>\n",
       "      <td>2</td>\n",
       "      <td>2</td>\n",
       "    </tr>\n",
       "    <tr>\n",
       "      <th>8</th>\n",
       "      <td>2</td>\n",
       "      <td>24</td>\n",
       "      <td>3788.076005</td>\n",
       "      <td>1</td>\n",
       "      <td>50</td>\n",
       "      <td>3</td>\n",
       "      <td>8</td>\n",
       "      <td>2</td>\n",
       "      <td>1</td>\n",
       "      <td>3</td>\n",
       "      <td>...</td>\n",
       "      <td>1</td>\n",
       "      <td>2</td>\n",
       "      <td>1</td>\n",
       "      <td>2</td>\n",
       "      <td>1</td>\n",
       "      <td>1</td>\n",
       "      <td>4</td>\n",
       "      <td>4</td>\n",
       "      <td>2</td>\n",
       "      <td>2</td>\n",
       "    </tr>\n",
       "    <tr>\n",
       "      <th>9</th>\n",
       "      <td>2</td>\n",
       "      <td>25</td>\n",
       "      <td>3793.066589</td>\n",
       "      <td>1</td>\n",
       "      <td>50</td>\n",
       "      <td>3</td>\n",
       "      <td>8</td>\n",
       "      <td>2</td>\n",
       "      <td>1</td>\n",
       "      <td>3</td>\n",
       "      <td>...</td>\n",
       "      <td>1</td>\n",
       "      <td>2</td>\n",
       "      <td>1</td>\n",
       "      <td>2</td>\n",
       "      <td>1</td>\n",
       "      <td>1</td>\n",
       "      <td>4</td>\n",
       "      <td>4</td>\n",
       "      <td>2</td>\n",
       "      <td>2</td>\n",
       "    </tr>\n",
       "  </tbody>\n",
       "</table>\n",
       "<p>5 rows × 356 columns</p>\n",
       "</div>"
      ],
      "text/plain": [
       "   YY1  Y1          WGT  HHSEX  AGE  AGECL  EDUC  EDCL  MARRIED  KIDS  ...  \\\n",
       "5    2  21  3790.476607      1   50      3     8     2        1     3  ...   \n",
       "6    2  22  3798.868505      1   50      3     8     2        1     3  ...   \n",
       "7    2  23  3799.468393      1   50      3     8     2        1     3  ...   \n",
       "8    2  24  3788.076005      1   50      3     8     2        1     3  ...   \n",
       "9    2  25  3793.066589      1   50      3     8     2        1     3  ...   \n",
       "\n",
       "   NWCAT  INCCAT  ASSETCAT  NINCCAT  NINC2CAT  NWPCTLECAT  INCPCTLECAT  \\\n",
       "5      1       2         1        2         1           1            4   \n",
       "6      1       2         1        2         1           1            4   \n",
       "7      1       2         1        2         1           1            4   \n",
       "8      1       2         1        2         1           1            4   \n",
       "9      1       2         1        2         1           1            4   \n",
       "\n",
       "   NINCPCTLECAT  INCQRTCAT  NINCQRTCAT  \n",
       "5             4          2           2  \n",
       "6             3          2           2  \n",
       "7             4          2           2  \n",
       "8             4          2           2  \n",
       "9             4          2           2  \n",
       "\n",
       "[5 rows x 356 columns]"
      ]
     },
     "execution_count": 4,
     "metadata": {},
     "output_type": "execute_result"
    }
   ],
   "source": [
    "# Filtering the DataFrame df based on the condition where \"TURNFEAR\" column equals 1\n",
    "mask = df[\"TURNFEAR\"] == 1\n",
    "\n",
    "# Creating a new DataFrame df_fear containing rows where \"TURNFEAR\" equals 1\n",
    "df_fear = df[mask]\n",
    "\n",
    "# Printing the type of df_fear\n",
    "print(\"df_fear type:\", type(df_fear))\n",
    "\n",
    "# Printing the shape (dimensions) of df_fear\n",
    "print(\"df_fear shape:\", df_fear.shape)\n",
    "\n",
    "# Displaying the first few rows of df_fear\n",
    "df_fear.head()"
   ]
  },
  {
   "cell_type": "markdown",
   "id": "2feb5a90",
   "metadata": {
    "papermill": {
     "duration": 0.021212,
     "end_time": "2024-04-05T07:58:05.987454",
     "exception": false,
     "start_time": "2024-04-05T07:58:05.966242",
     "status": "completed"
    },
    "tags": []
   },
   "source": [
    "`2. Explore`"
   ]
  },
  {
   "cell_type": "markdown",
   "id": "785cfd3c",
   "metadata": {
    "papermill": {
     "duration": 0.018734,
     "end_time": "2024-04-05T07:58:06.025161",
     "exception": false,
     "start_time": "2024-04-05T07:58:06.006427",
     "status": "completed"
    },
    "tags": []
   },
   "source": [
    "Age\n",
    "\n",
    "\n",
    "\n",
    "Now that we have our subset, let's explore the characteristics of this group. One of the features is age group (\"AGECL\")."
   ]
  },
  {
   "cell_type": "markdown",
   "id": "399c806f",
   "metadata": {
    "papermill": {
     "duration": 0.019303,
     "end_time": "2024-04-05T07:58:06.064143",
     "exception": false,
     "start_time": "2024-04-05T07:58:06.044840",
     "status": "completed"
    },
    "tags": []
   },
   "source": [
    "Create a list age_groups with the unique values in the \"AGECL\" column. Then review the entry for \"AGECL\" in the Code Book to determine what the values represent."
   ]
  },
  {
   "cell_type": "code",
   "execution_count": 5,
   "id": "1c23e01f",
   "metadata": {
    "execution": {
     "iopub.execute_input": "2024-04-05T07:58:06.109535Z",
     "iopub.status.busy": "2024-04-05T07:58:06.108495Z",
     "iopub.status.idle": "2024-04-05T07:58:06.121463Z",
     "shell.execute_reply": "2024-04-05T07:58:06.120484Z"
    },
    "papermill": {
     "duration": 0.041064,
     "end_time": "2024-04-05T07:58:06.124756",
     "exception": false,
     "start_time": "2024-04-05T07:58:06.083692",
     "status": "completed"
    },
    "tags": []
   },
   "outputs": [
    {
     "data": {
      "text/plain": [
       "6"
      ]
     },
     "execution_count": 5,
     "metadata": {},
     "output_type": "execute_result"
    }
   ],
   "source": [
    "# Count unique values in column\n",
    "df_fear[\"AGECL\"].nunique()"
   ]
  },
  {
   "cell_type": "code",
   "execution_count": 6,
   "id": "29cbba38",
   "metadata": {
    "execution": {
     "iopub.execute_input": "2024-04-05T07:58:06.172005Z",
     "iopub.status.busy": "2024-04-05T07:58:06.170895Z",
     "iopub.status.idle": "2024-04-05T07:58:06.180000Z",
     "shell.execute_reply": "2024-04-05T07:58:06.178036Z"
    },
    "papermill": {
     "duration": 0.036365,
     "end_time": "2024-04-05T07:58:06.184075",
     "exception": false,
     "start_time": "2024-04-05T07:58:06.147710",
     "status": "completed"
    },
    "tags": []
   },
   "outputs": [
    {
     "name": "stdout",
     "output_type": "stream",
     "text": [
      "Age Groups: [3 5 1 2 4 6]\n"
     ]
    }
   ],
   "source": [
    "# Get unique age groups from dataframe\n",
    "age_groups = df_fear[\"AGECL\"].unique()\n",
    "\n",
    "# Print age groups\n",
    "print(\"Age Groups:\", age_groups)\n"
   ]
  },
  {
   "cell_type": "markdown",
   "id": "7067a934",
   "metadata": {
    "papermill": {
     "duration": 0.019623,
     "end_time": "2024-04-05T07:58:06.224344",
     "exception": false,
     "start_time": "2024-04-05T07:58:06.204721",
     "status": "completed"
    },
    "tags": []
   },
   "source": [
    "Looking at the Code Book (Data Dictionary) we can see that `AGECL` represents categorical data, even though the values in the column are numeric."
   ]
  },
  {
   "cell_type": "markdown",
   "id": "f9cae7d5",
   "metadata": {
    "papermill": {
     "duration": 0.019727,
     "end_time": "2024-04-05T07:58:06.264707",
     "exception": false,
     "start_time": "2024-04-05T07:58:06.244980",
     "status": "completed"
    },
    "tags": []
   },
   "source": [
    " Create a Series agecl that contains the observations from \"AGECL\" using the true group names."
   ]
  },
  {
   "cell_type": "code",
   "execution_count": 7,
   "id": "d2a0ce89",
   "metadata": {
    "execution": {
     "iopub.execute_input": "2024-04-05T07:58:06.307302Z",
     "iopub.status.busy": "2024-04-05T07:58:06.306046Z",
     "iopub.status.idle": "2024-04-05T07:58:06.315305Z",
     "shell.execute_reply": "2024-04-05T07:58:06.314074Z"
    },
    "papermill": {
     "duration": 0.033267,
     "end_time": "2024-04-05T07:58:06.317736",
     "exception": false,
     "start_time": "2024-04-05T07:58:06.284469",
     "status": "completed"
    },
    "tags": []
   },
   "outputs": [
    {
     "data": {
      "text/plain": [
       "5      3\n",
       "6      3\n",
       "7      3\n",
       "8      3\n",
       "9      3\n",
       "110    5\n",
       "111    5\n",
       "112    5\n",
       "113    5\n",
       "114    5\n",
       "Name: AGECL, dtype: int64"
      ]
     },
     "execution_count": 7,
     "metadata": {},
     "output_type": "execute_result"
    }
   ],
   "source": [
    "df_fear[\"AGECL\"].head(10)"
   ]
  },
  {
   "cell_type": "code",
   "execution_count": 8,
   "id": "d5146469",
   "metadata": {
    "execution": {
     "iopub.execute_input": "2024-04-05T07:58:06.361150Z",
     "iopub.status.busy": "2024-04-05T07:58:06.360327Z",
     "iopub.status.idle": "2024-04-05T07:58:06.374265Z",
     "shell.execute_reply": "2024-04-05T07:58:06.373136Z"
    },
    "papermill": {
     "duration": 0.038272,
     "end_time": "2024-04-05T07:58:06.376493",
     "exception": false,
     "start_time": "2024-04-05T07:58:06.338221",
     "status": "completed"
    },
    "tags": []
   },
   "outputs": [
    {
     "name": "stdout",
     "output_type": "stream",
     "text": [
      "age_cl type: <class 'pandas.core.series.Series'>\n",
      "age_cl shape: (4623,)\n"
     ]
    },
    {
     "data": {
      "text/plain": [
       "5    45-54\n",
       "6    45-54\n",
       "7    45-54\n",
       "8    45-54\n",
       "9    45-54\n",
       "Name: AGECL, dtype: object"
      ]
     },
     "execution_count": 8,
     "metadata": {},
     "output_type": "execute_result"
    }
   ],
   "source": [
    "# Define a dictionary mapping age categories to labels\n",
    "agecl_dict = {\n",
    "    1: \"Under 35\",\n",
    "    2: \"35-44\",\n",
    "    3: \"45-54\",\n",
    "    4: \"55-64\",\n",
    "    5: \"65-74\",\n",
    "    6: \"75 or Older\",\n",
    "}\n",
    "\n",
    "# Replace values in a DataFrame column using the dictionary\n",
    "age_cl = df_fear[\"AGECL\"].replace(agecl_dict)\n",
    "\n",
    "# Print the type and shape of the resulting Series\n",
    "print(\"age_cl type:\", type(age_cl))\n",
    "print(\"age_cl shape:\", age_cl.shape)\n",
    "\n",
    "# Display the first few entries of the transformed Series\n",
    "age_cl.head()\n"
   ]
  },
  {
   "cell_type": "markdown",
   "id": "edfb48db",
   "metadata": {
    "papermill": {
     "duration": 0.020149,
     "end_time": "2024-04-05T07:58:06.416922",
     "exception": false,
     "start_time": "2024-04-05T07:58:06.396773",
     "status": "completed"
    },
    "tags": []
   },
   "source": [
    "Create a bar chart showing the value counts from age_cl. Be sure to label the x-axis \"Age Group\", the y-axis \"Frequency (count)\", and use the title \"Credit Fearful: Age Groups\"."
   ]
  },
  {
   "cell_type": "code",
   "execution_count": 9,
   "id": "880cc213",
   "metadata": {
    "execution": {
     "iopub.execute_input": "2024-04-05T07:58:06.460291Z",
     "iopub.status.busy": "2024-04-05T07:58:06.459804Z",
     "iopub.status.idle": "2024-04-05T07:58:06.471311Z",
     "shell.execute_reply": "2024-04-05T07:58:06.470149Z"
    },
    "papermill": {
     "duration": 0.036606,
     "end_time": "2024-04-05T07:58:06.473772",
     "exception": false,
     "start_time": "2024-04-05T07:58:06.437166",
     "status": "completed"
    },
    "tags": []
   },
   "outputs": [
    {
     "data": {
      "text/plain": [
       "AGECL\n",
       "Under 35       1307\n",
       "35-44          1093\n",
       "45-54           932\n",
       "55-64           745\n",
       "65-74           401\n",
       "75 or Older     145\n",
       "Name: count, dtype: int64"
      ]
     },
     "execution_count": 9,
     "metadata": {},
     "output_type": "execute_result"
    }
   ],
   "source": [
    "age_cl.value_counts()"
   ]
  },
  {
   "cell_type": "code",
   "execution_count": 10,
   "id": "a47feac8",
   "metadata": {
    "execution": {
     "iopub.execute_input": "2024-04-05T07:58:06.517114Z",
     "iopub.status.busy": "2024-04-05T07:58:06.516577Z",
     "iopub.status.idle": "2024-04-05T07:58:07.034270Z",
     "shell.execute_reply": "2024-04-05T07:58:07.032855Z"
    },
    "papermill": {
     "duration": 0.543091,
     "end_time": "2024-04-05T07:58:07.037449",
     "exception": false,
     "start_time": "2024-04-05T07:58:06.494358",
     "status": "completed"
    },
    "tags": []
   },
   "outputs": [
    {
     "data": {
      "image/png": "[encoded data removed]",
      "text/plain": [
       "<Figure size 640x480 with 1 Axes>"
      ]
     },
     "metadata": {},
     "output_type": "display_data"
    }
   ],
   "source": [
    "# Count occurrences of each age group\n",
    "age_cl_value_counts = age_cl.value_counts()\n",
    "\n",
    "# Plotting bar plot with labels\n",
    "age_cl_value_counts.plot(\n",
    "    kind=\"bar\",  # Bar plot\n",
    "    xlabel=\"Age Group\",  # X-axis label\n",
    "    ylabel=\"Frequency (count)\",  # Y-axis label\n",
    "    title=\"Credit Fearful: Age Groups\"  # Plot title\n",
    ");"
   ]
  },
  {
   "cell_type": "markdown",
   "id": "db290f3d",
   "metadata": {
    "papermill": {
     "duration": 0.11702,
     "end_time": "2024-04-05T07:58:07.176723",
     "exception": false,
     "start_time": "2024-04-05T07:58:07.059703",
     "status": "completed"
    },
    "tags": []
   },
   "source": [
    "You might have noticed that by creating their own age groups, the authors of the survey have basically made a histogram for us comprised of 6 bins. Our chart is telling us that many of the people who fear being denied credit are younger. But the first two age groups cover a wider range than the other four. So it might be useful to look inside those values to get a more granular understanding of the data.\n",
    "\n",
    "To do that, we'll need to look at a different variable: \"AGE\". Whereas \"AGECL\" was a categorical variable, \"AGE\" is continuous, so we can use it to make a histogram of our own."
   ]
  },
  {
   "cell_type": "markdown",
   "id": "5bccb991",
   "metadata": {
    "papermill": {
     "duration": 0.021329,
     "end_time": "2024-04-05T07:58:07.219126",
     "exception": false,
     "start_time": "2024-04-05T07:58:07.197797",
     "status": "completed"
    },
    "tags": []
   },
   "source": [
    "Create a histogram of the \"AGE\" column with 10 bins. Be sure to label the x-axis \"Age\", the y-axis \"Frequency (count)\", and use the title \"Credit Fearful: Age Distribution\"."
   ]
  },
  {
   "cell_type": "code",
   "execution_count": 11,
   "id": "ae1b014c",
   "metadata": {
    "execution": {
     "iopub.execute_input": "2024-04-05T07:58:07.263359Z",
     "iopub.status.busy": "2024-04-05T07:58:07.262885Z",
     "iopub.status.idle": "2024-04-05T07:58:07.631449Z",
     "shell.execute_reply": "2024-04-05T07:58:07.630179Z"
    },
    "papermill": {
     "duration": 0.394468,
     "end_time": "2024-04-05T07:58:07.634584",
     "exception": false,
     "start_time": "2024-04-05T07:58:07.240116",
     "status": "completed"
    },
    "tags": []
   },
   "outputs": [
    {
     "data": {
      "image/png": "[encoded data removed]",
      "text/plain": [
       "<Figure size 640x480 with 1 Axes>"
      ]
     },
     "metadata": {},
     "output_type": "display_data"
    }
   ],
   "source": [
    "# Plot histogram of \"AGE\"\n",
    "df_fear[\"AGE\"].hist(bins=10)\n",
    "\n",
    "# Label x-axis\n",
    "plt.xlabel(\"Age\")\n",
    "\n",
    "# Label y-axis\n",
    "plt.ylabel(\"Frequency\")\n",
    "\n",
    "# Title of the plot\n",
    "plt.title(\"Credit Fearful: Age Distribution\");"
   ]
  },
  {
   "cell_type": "markdown",
   "id": "4ec5a881",
   "metadata": {
    "papermill": {
     "duration": 0.021605,
     "end_time": "2024-04-05T07:58:07.678739",
     "exception": false,
     "start_time": "2024-04-05T07:58:07.657134",
     "status": "completed"
    },
    "tags": []
   },
   "source": []
  },
  {
   "cell_type": "markdown",
   "id": "bbdffe44",
   "metadata": {
    "papermill": {
     "duration": 0.022936,
     "end_time": "2024-04-05T07:58:07.725579",
     "exception": false,
     "start_time": "2024-04-05T07:58:07.702643",
     "status": "completed"
    },
    "tags": []
   },
   "source": [
    "It looks like younger people are still more concerned about being able to secure a loan than older people, but the people who are most concerned seem to be between 30 and 40."
   ]
  },
  {
   "cell_type": "markdown",
   "id": "1c4d8590",
   "metadata": {
    "papermill": {
     "duration": 0.021714,
     "end_time": "2024-04-05T07:58:07.769890",
     "exception": false,
     "start_time": "2024-04-05T07:58:07.748176",
     "status": "completed"
    },
    "tags": []
   },
   "source": [
    "`a. Race`"
   ]
  },
  {
   "cell_type": "markdown",
   "id": "fbbfd1a8",
   "metadata": {
    "papermill": {
     "duration": 0.021723,
     "end_time": "2024-04-05T07:58:07.813576",
     "exception": false,
     "start_time": "2024-04-05T07:58:07.791853",
     "status": "completed"
    },
    "tags": []
   },
   "source": [
    "Now that we have an understanding of how age relates to our outcome of interest, let's try some other possibilities, starting with race. If we look at the Code Book for \"RACE\", we can see that there are 4 categories."
   ]
  },
  {
   "cell_type": "markdown",
   "id": "93e32ef8",
   "metadata": {
    "papermill": {
     "duration": 0.021555,
     "end_time": "2024-04-05T07:58:07.856876",
     "exception": false,
     "start_time": "2024-04-05T07:58:07.835321",
     "status": "completed"
    },
    "tags": []
   },
   "source": [
    "Note that there's no 4 category here. If a value for 4 did exist, it would be reasonable to assign it to \"Asian American / Pacific Islander\" — a group that doesn't seem to be represented in the dataset. This is a strange omission, but you'll often find that large public datasets have these sorts of issues. The important thing is to always read the data dictionary carefully. In this case, remember that this dataset doesn't provide a complete picture of race in America — something that you'd have to explain to anyone interested in your analysis."
   ]
  },
  {
   "cell_type": "markdown",
   "id": "2371a156",
   "metadata": {
    "papermill": {
     "duration": 0.022606,
     "end_time": "2024-04-05T07:58:07.902384",
     "exception": false,
     "start_time": "2024-04-05T07:58:07.879778",
     "status": "completed"
    },
    "tags": []
   },
   "source": [
    "Create a horizontal bar chart showing the normalized value counts for \"RACE\". In your chart, you should replace the numerical values with the true group names. Be sure to label the x-axis \"Frequency (%)\", the y-axis \"Race\", and use the title \"Credit Fearful: Racial Groups\". Finally, set the xlim for this plot to (0,1)."
   ]
  },
  {
   "cell_type": "code",
   "execution_count": 12,
   "id": "2bb6fb0a",
   "metadata": {
    "execution": {
     "iopub.execute_input": "2024-04-05T07:58:07.949445Z",
     "iopub.status.busy": "2024-04-05T07:58:07.949007Z",
     "iopub.status.idle": "2024-04-05T07:58:08.255923Z",
     "shell.execute_reply": "2024-04-05T07:58:08.254540Z"
    },
    "papermill": {
     "duration": 0.33411,
     "end_time": "2024-04-05T07:58:08.259136",
     "exception": false,
     "start_time": "2024-04-05T07:58:07.925026",
     "status": "completed"
    },
    "tags": []
   },
   "outputs": [
    {
     "data": {
      "image/png": "[encoded data removed]",
      "text/plain": [
       "<Figure size 640x480 with 1 Axes>"
      ]
     },
     "metadata": {},
     "output_type": "display_data"
    }
   ],
   "source": [
    "# Define dictionary mapping race codes to labels\n",
    "race_dict = {\n",
    "    1: \"White/Non-Hispanic\",\n",
    "    2: \"Black/African-American\",\n",
    "    3: \"Hispanic\",\n",
    "    5: \"Other\",\n",
    "}\n",
    "# Replace race codes with labels in DataFrame column\n",
    "race = df_fear[\"RACE\"].replace(race_dict)\n",
    "# Calculate normalized value counts of each race\n",
    "race_value_counts = race.value_counts(normalize=True)\n",
    "race_value_counts\n",
    "# Create horizontal bar chart of race frequencies\n",
    "race_value_counts.plot(\n",
    "    kind=\"barh\"\n",
    ")\n",
    "# Set x-axis limit from 0 to 1\n",
    "plt.xlim((0, 1))\n",
    "# Label x-axis as Frequency (%)\n",
    "plt.xlabel(\"Frequency (%)\")\n",
    "# Label y-axis as Race\n",
    "plt.ylabel(\"Race\")\n",
    "# Set title of the plot\n",
    "plt.title(\"Credit Fearful: Racial Groups\");\n"
   ]
  },
  {
   "cell_type": "markdown",
   "id": "3b959cee",
   "metadata": {
    "papermill": {
     "duration": 0.023716,
     "end_time": "2024-04-05T07:58:08.305897",
     "exception": false,
     "start_time": "2024-04-05T07:58:08.282181",
     "status": "completed"
    },
    "tags": []
   },
   "source": [
    "This suggests that White/Non-Hispanic people worry more about being denied credit, but thinking critically about what we're seeing, that might be because there are more White/Non-Hispanic in the population of the United States than there are other racial groups, and the sample for this survey was specifically drawn to be representative of the population as a whole."
   ]
  },
  {
   "cell_type": "markdown",
   "id": "c96b990f",
   "metadata": {
    "papermill": {
     "duration": 0.023471,
     "end_time": "2024-04-05T07:58:08.352614",
     "exception": false,
     "start_time": "2024-04-05T07:58:08.329143",
     "status": "completed"
    },
    "tags": []
   },
   "source": [
    "Task 6.1.8: Recreate the horizontal bar chart you just made, but this time use the entire dataset df instead of the subset df_fear. The title of this plot should be \"SCF Respondents: Racial Groups\""
   ]
  },
  {
   "cell_type": "code",
   "execution_count": 13,
   "id": "4b904c11",
   "metadata": {
    "execution": {
     "iopub.execute_input": "2024-04-05T07:58:08.399758Z",
     "iopub.status.busy": "2024-04-05T07:58:08.399239Z",
     "iopub.status.idle": "2024-04-05T07:58:08.719045Z",
     "shell.execute_reply": "2024-04-05T07:58:08.717613Z"
    },
    "papermill": {
     "duration": 0.347086,
     "end_time": "2024-04-05T07:58:08.721971",
     "exception": false,
     "start_time": "2024-04-05T07:58:08.374885",
     "status": "completed"
    },
    "tags": []
   },
   "outputs": [
    {
     "data": {
      "image/png": "[encoded data removed]",
      "text/plain": [
       "<Figure size 640x480 with 1 Axes>"
      ]
     },
     "metadata": {},
     "output_type": "display_data"
    }
   ],
   "source": [
    "# Replace race codes with descriptive labels\n",
    "race = df[\"RACE\"].replace(race_dict)\n",
    "# Calculate normalized value counts of races\n",
    "race_value_counts = race.value_counts(normalize=True)\n",
    "# Create horizontal bar chart\n",
    "race_value_counts.plot(kind=\"barh\")\n",
    "# Set x-axis limit from 0 to 1\n",
    "plt.xlim((0, 1))\n",
    "# Label x-axis\n",
    "plt.xlabel(\"Frequency (%)\")\n",
    "# Label y-axis\n",
    "plt.ylabel(\"Race\")\n",
    "# Set title of the plot\n",
    "plt.title(\"SCF Respondents: Racial Groups\");\n"
   ]
  },
  {
   "cell_type": "markdown",
   "id": "cb51e78c",
   "metadata": {
    "papermill": {
     "duration": 0.024824,
     "end_time": "2024-04-05T07:58:08.769674",
     "exception": false,
     "start_time": "2024-04-05T07:58:08.744850",
     "status": "completed"
    },
    "tags": []
   },
   "source": [
    "How does this second bar chart change our perception of the first one? On the one hand, we can see that White Non-Hispanics account for around 70% of whole dataset, but only 54% of credit fearful respondents. On the other hand, Black and Hispanic respondents represent 23% of the whole dataset but 40% of credit fearful respondents. In other words, Black and Hispanic households are actually more likely to be in the credit fearful group."
   ]
  },
  {
   "cell_type": "markdown",
   "id": "0b4b434b",
   "metadata": {
    "papermill": {
     "duration": 0.022385,
     "end_time": "2024-04-05T07:58:08.814755",
     "exception": false,
     "start_time": "2024-04-05T07:58:08.792370",
     "status": "completed"
    },
    "tags": []
   },
   "source": [
    "`b. Income`"
   ]
  },
  {
   "cell_type": "markdown",
   "id": "1fe18043",
   "metadata": {
    "papermill": {
     "duration": 0.022165,
     "end_time": "2024-04-05T07:58:08.859390",
     "exception": false,
     "start_time": "2024-04-05T07:58:08.837225",
     "status": "completed"
    },
    "tags": []
   },
   "source": [
    "What about income level? Are people with lower incomes concerned about being denied credit, or is that something people with more money worry about? In order to answer that question, we'll need to again compare the entire dataset with our subgroup using the \"INCCAT\" feature, which captures income percentile groups. This time, though, we'll make a single, side-by-side bar chart."
   ]
  },
  {
   "cell_type": "markdown",
   "id": "99d014bd",
   "metadata": {
    "papermill": {
     "duration": 0.022142,
     "end_time": "2024-04-05T07:58:08.904057",
     "exception": false,
     "start_time": "2024-04-05T07:58:08.881915",
     "status": "completed"
    },
    "tags": []
   },
   "source": [
    "Task 6.1.9: Create a DataFrame df_inccat that shows the normalized frequency for income categories for both the credit fearful and non-credit fearful households in the dataset. \n",
    "Aggregate data in a Series using value_counts in pandas.\n",
    "Aggregate data using the groupby method in pandas.\n",
    "Create a Series in pandas.\n",
    "Rename a Series in pandas.\n",
    "Replace values in a column using pandas.\n",
    "Set and reset the index of a DataFrame in pandas."
   ]
  },
  {
   "cell_type": "code",
   "execution_count": 14,
   "id": "ff073b35",
   "metadata": {
    "execution": {
     "iopub.execute_input": "2024-04-05T07:58:08.952170Z",
     "iopub.status.busy": "2024-04-05T07:58:08.951727Z",
     "iopub.status.idle": "2024-04-05T07:58:08.993931Z",
     "shell.execute_reply": "2024-04-05T07:58:08.992709Z"
    },
    "papermill": {
     "duration": 0.070317,
     "end_time": "2024-04-05T07:58:08.996809",
     "exception": false,
     "start_time": "2024-04-05T07:58:08.926492",
     "status": "completed"
    },
    "tags": []
   },
   "outputs": [
    {
     "data": {
      "text/html": [
       "<div>\n",
       "<style scoped>\n",
       "    .dataframe tbody tr th:only-of-type {\n",
       "        vertical-align: middle;\n",
       "    }\n",
       "\n",
       "    .dataframe tbody tr th {\n",
       "        vertical-align: top;\n",
       "    }\n",
       "\n",
       "    .dataframe thead th {\n",
       "        text-align: right;\n",
       "    }\n",
       "</style>\n",
       "<table border=\"1\" class=\"dataframe\">\n",
       "  <thead>\n",
       "    <tr style=\"text-align: right;\">\n",
       "      <th></th>\n",
       "      <th>TURNFEAR</th>\n",
       "      <th>INCCAT</th>\n",
       "      <th>frequency</th>\n",
       "    </tr>\n",
       "  </thead>\n",
       "  <tbody>\n",
       "    <tr>\n",
       "      <th>0</th>\n",
       "      <td>0</td>\n",
       "      <td>90-100</td>\n",
       "      <td>0.297296</td>\n",
       "    </tr>\n",
       "    <tr>\n",
       "      <th>1</th>\n",
       "      <td>0</td>\n",
       "      <td>60-79.9</td>\n",
       "      <td>0.174841</td>\n",
       "    </tr>\n",
       "    <tr>\n",
       "      <th>2</th>\n",
       "      <td>0</td>\n",
       "      <td>40-59.9</td>\n",
       "      <td>0.143146</td>\n",
       "    </tr>\n",
       "    <tr>\n",
       "      <th>3</th>\n",
       "      <td>0</td>\n",
       "      <td>0-20</td>\n",
       "      <td>0.140343</td>\n",
       "    </tr>\n",
       "    <tr>\n",
       "      <th>4</th>\n",
       "      <td>0</td>\n",
       "      <td>21-39.9</td>\n",
       "      <td>0.135933</td>\n",
       "    </tr>\n",
       "    <tr>\n",
       "      <th>5</th>\n",
       "      <td>0</td>\n",
       "      <td>80-89.9</td>\n",
       "      <td>0.108441</td>\n",
       "    </tr>\n",
       "    <tr>\n",
       "      <th>6</th>\n",
       "      <td>1</td>\n",
       "      <td>0-20</td>\n",
       "      <td>0.288125</td>\n",
       "    </tr>\n",
       "    <tr>\n",
       "      <th>7</th>\n",
       "      <td>1</td>\n",
       "      <td>21-39.9</td>\n",
       "      <td>0.256327</td>\n",
       "    </tr>\n",
       "    <tr>\n",
       "      <th>8</th>\n",
       "      <td>1</td>\n",
       "      <td>40-59.9</td>\n",
       "      <td>0.228856</td>\n",
       "    </tr>\n",
       "    <tr>\n",
       "      <th>9</th>\n",
       "      <td>1</td>\n",
       "      <td>60-79.9</td>\n",
       "      <td>0.132598</td>\n",
       "    </tr>\n",
       "    <tr>\n",
       "      <th>10</th>\n",
       "      <td>1</td>\n",
       "      <td>90-100</td>\n",
       "      <td>0.048886</td>\n",
       "    </tr>\n",
       "    <tr>\n",
       "      <th>11</th>\n",
       "      <td>1</td>\n",
       "      <td>80-89.9</td>\n",
       "      <td>0.045209</td>\n",
       "    </tr>\n",
       "  </tbody>\n",
       "</table>\n",
       "</div>"
      ],
      "text/plain": [
       "    TURNFEAR   INCCAT  frequency\n",
       "0          0   90-100   0.297296\n",
       "1          0  60-79.9   0.174841\n",
       "2          0  40-59.9   0.143146\n",
       "3          0     0-20   0.140343\n",
       "4          0  21-39.9   0.135933\n",
       "5          0  80-89.9   0.108441\n",
       "6          1     0-20   0.288125\n",
       "7          1  21-39.9   0.256327\n",
       "8          1  40-59.9   0.228856\n",
       "9          1  60-79.9   0.132598\n",
       "10         1   90-100   0.048886\n",
       "11         1  80-89.9   0.045209"
      ]
     },
     "execution_count": 14,
     "metadata": {},
     "output_type": "execute_result"
    }
   ],
   "source": [
    "# Define income category dictionary\n",
    "inccat_dict = {\n",
    "    1: \"0-20\",\n",
    "    2: \"21-39.9\",\n",
    "    3: \"40-59.9\",\n",
    "    4: \"60-79.9\",\n",
    "    5: \"80-89.9\",\n",
    "    6: \"90-100\",\n",
    "}\n",
    "\n",
    "# Replace values in \"INCCAT\" column, group by \"TURNFEAR\", calculate value counts, normalize, rename, and reset index\n",
    "df_inccat = (\n",
    "    df[\"INCCAT\"]\n",
    "    .replace(inccat_dict)\n",
    "    .groupby(df[\"TURNFEAR\"])\n",
    "    .value_counts(normalize=True)\n",
    "    .rename(\"frequency\")\n",
    "    .to_frame()\n",
    "    .reset_index()\n",
    ")\n",
    "df_inccat"
   ]
  },
  {
   "cell_type": "markdown",
   "id": "3a9f22f2",
   "metadata": {
    "papermill": {
     "duration": 0.022598,
     "end_time": "2024-04-05T07:58:09.042425",
     "exception": false,
     "start_time": "2024-04-05T07:58:09.019827",
     "status": "completed"
    },
    "tags": []
   },
   "source": [
    "Task 6.1.10: Using seaborn, create a side-by-side bar chart of df_inccat. Set hue to \"TURNFEAR\", and make sure that the income categories are in the correct order along the x-axis. Label to the x-axis \"Income Category\", the y-axis \"Frequency (%)\", and use the title \"Income Distribution: Credit Fearful vs. Non-fearful\"."
   ]
  },
  {
   "cell_type": "code",
   "execution_count": 15,
   "id": "91ce6ab4",
   "metadata": {
    "execution": {
     "iopub.execute_input": "2024-04-05T07:58:09.090939Z",
     "iopub.status.busy": "2024-04-05T07:58:09.090460Z",
     "iopub.status.idle": "2024-04-05T07:58:09.568782Z",
     "shell.execute_reply": "2024-04-05T07:58:09.567448Z"
    },
    "papermill": {
     "duration": 0.506281,
     "end_time": "2024-04-05T07:58:09.571883",
     "exception": false,
     "start_time": "2024-04-05T07:58:09.065602",
     "status": "completed"
    },
    "tags": []
   },
   "outputs": [
    {
     "data": {
      "image/png": "[encoded data removed]",
      "text/plain": [
       "<Figure size 640x480 with 1 Axes>"
      ]
     },
     "metadata": {},
     "output_type": "display_data"
    }
   ],
   "source": [
    "# Create bar chart\n",
    "sns.barplot(\n",
    "    x=\"INCCAT\",  # X-axis: Income category\n",
    "    y=\"frequency\",  # Y-axis: Frequency\n",
    "    hue=\"TURNFEAR\",  # Color by credit fear\n",
    "    data=df_inccat,  # Data source\n",
    "    order=inccat_dict.values()  # Order income categories\n",
    ")\n",
    "# Label X-axis\n",
    "plt.xlabel(\"Income Category\")\n",
    "# Label Y-axis\n",
    "plt.ylabel(\"Frequency (%)\")\n",
    "# Title of the chart\n",
    "plt.title(\"Income Distribution: Credit Fearful vs. Non-fearful\");"
   ]
  },
  {
   "cell_type": "markdown",
   "id": "935bce89",
   "metadata": {
    "papermill": {
     "duration": 0.023523,
     "end_time": "2024-04-05T07:58:09.619260",
     "exception": false,
     "start_time": "2024-04-05T07:58:09.595737",
     "status": "completed"
    },
    "tags": []
   },
   "source": [
    "Comparing the income categories across the fearful and non-fearful groups, we can see that credit fearful households are much more common in the lower income categories. In other words, the credit fearful have lower incomes.\n",
    "\n",
    "So, based on all this, what do we know? Among the people who responded that they were indeed worried about being approved for credit after having been denied in the past five years, a plurality of the young and low-income had the highest number of respondents. That makes sense, right? Young people tend to make less money and rely more heavily on credit to get their lives off the ground, so having been denied credit makes them more anxious about the future."
   ]
  },
  {
   "cell_type": "markdown",
   "id": "eed70d4a",
   "metadata": {
    "papermill": {
     "duration": 0.023217,
     "end_time": "2024-04-05T07:58:09.666421",
     "exception": false,
     "start_time": "2024-04-05T07:58:09.643204",
     "status": "completed"
    },
    "tags": []
   },
   "source": [
    "`c. Assets`"
   ]
  },
  {
   "cell_type": "markdown",
   "id": "8219fe87",
   "metadata": {
    "papermill": {
     "duration": 0.025379,
     "end_time": "2024-04-05T07:58:09.716162",
     "exception": false,
     "start_time": "2024-04-05T07:58:09.690783",
     "status": "completed"
    },
    "tags": []
   },
   "source": [
    "Not all the data is demographic, though. If you were working for a bank, you would probably care less about how old the people are, and more about their ability to carry more debt. If we were going to build a model for that, we'd want to establish some relationships among the variables, and making some correlation matrices is a good place to start.\n",
    "\n",
    "First, let's zoom out a little bit. We've been looking at only the people who answered \"yes\" when the survey asked about \"TURNFEAR\", but what if we looked at everyone instead? To begin with, let's bring in a clear dataset and run a single correlation."
   ]
  },
  {
   "cell_type": "markdown",
   "id": "494b93e3",
   "metadata": {
    "papermill": {
     "duration": 0.023909,
     "end_time": "2024-04-05T07:58:09.763753",
     "exception": false,
     "start_time": "2024-04-05T07:58:09.739844",
     "status": "completed"
    },
    "tags": []
   },
   "source": [
    "Task 6.1.11: Calculate the correlation coefficient for \"ASSET\" and \"HOUSES\" in the whole dataset df."
   ]
  },
  {
   "cell_type": "code",
   "execution_count": 16,
   "id": "ce1e8024",
   "metadata": {
    "execution": {
     "iopub.execute_input": "2024-04-05T07:58:09.813760Z",
     "iopub.status.busy": "2024-04-05T07:58:09.812761Z",
     "iopub.status.idle": "2024-04-05T07:58:09.822826Z",
     "shell.execute_reply": "2024-04-05T07:58:09.821460Z"
    },
    "papermill": {
     "duration": 0.037832,
     "end_time": "2024-04-05T07:58:09.825391",
     "exception": false,
     "start_time": "2024-04-05T07:58:09.787559",
     "status": "completed"
    },
    "tags": []
   },
   "outputs": [
    {
     "name": "stdout",
     "output_type": "stream",
     "text": [
      "SCF: Asset Houses Correlation: 0.519827354479315\n"
     ]
    }
   ],
   "source": [
    "asset_house_corr = df[\"ASSET\"].corr(df[\"HOUSES\"])\n",
    "print(\"SCF: Asset Houses Correlation:\", asset_house_corr)"
   ]
  },
  {
   "cell_type": "markdown",
   "id": "a795cfb6",
   "metadata": {
    "papermill": {
     "duration": 0.023606,
     "end_time": "2024-04-05T07:58:09.873117",
     "exception": false,
     "start_time": "2024-04-05T07:58:09.849511",
     "status": "completed"
    },
    "tags": []
   },
   "source": [
    "Task 6.1.12: Calculate the correlation coefficient for \"ASSET\" and \"HOUSES\" in the whole credit-fearful subset df_fear."
   ]
  },
  {
   "cell_type": "code",
   "execution_count": 17,
   "id": "d82bf00f",
   "metadata": {
    "execution": {
     "iopub.execute_input": "2024-04-05T07:58:09.924602Z",
     "iopub.status.busy": "2024-04-05T07:58:09.924087Z",
     "iopub.status.idle": "2024-04-05T07:58:09.932529Z",
     "shell.execute_reply": "2024-04-05T07:58:09.930949Z"
    },
    "papermill": {
     "duration": 0.037208,
     "end_time": "2024-04-05T07:58:09.935231",
     "exception": false,
     "start_time": "2024-04-05T07:58:09.898023",
     "status": "completed"
    },
    "tags": []
   },
   "outputs": [
    {
     "name": "stdout",
     "output_type": "stream",
     "text": [
      "Credit Fearful: Asset Houses Correlation: 0.5832879735998714\n"
     ]
    }
   ],
   "source": [
    "asset_house_corr = df_fear[\"ASSET\"].corr(df_fear[\"HOUSES\"])\n",
    "print(\"Credit Fearful: Asset Houses Correlation:\", asset_house_corr)"
   ]
  },
  {
   "cell_type": "markdown",
   "id": "036000a0",
   "metadata": {
    "papermill": {
     "duration": 0.023407,
     "end_time": "2024-04-05T07:58:09.983048",
     "exception": false,
     "start_time": "2024-04-05T07:58:09.959641",
     "status": "completed"
    },
    "tags": []
   },
   "source": [
    "They're different! It's still only a moderate positive correlation, but the relationship between the total value of assets and the value of the primary residence is stronger for our TURNFEAR group than it is for the population as a whole.\n",
    "\n",
    "Let's make correlation matrices using the rest of the data for both df and df_fear and see if the differences persist. Here, we'll look at only 5 features: \"ASSET\", \"HOUSES\", \"INCOME\", \"DEBT\", and \"EDUC\"."
   ]
  },
  {
   "cell_type": "markdown",
   "id": "7c66132c",
   "metadata": {
    "papermill": {
     "duration": 0.023517,
     "end_time": "2024-04-05T07:58:10.030967",
     "exception": false,
     "start_time": "2024-04-05T07:58:10.007450",
     "status": "completed"
    },
    "tags": []
   },
   "source": [
    "Task 6.1.13: Make a correlation matrix using df, considering only the columns \"ASSET\", \"HOUSES\", \"INCOME\", \"DEBT\", and \"EDUC\"."
   ]
  },
  {
   "cell_type": "code",
   "execution_count": 18,
   "id": "68e4ca5b",
   "metadata": {
    "execution": {
     "iopub.execute_input": "2024-04-05T07:58:10.081462Z",
     "iopub.status.busy": "2024-04-05T07:58:10.080949Z",
     "iopub.status.idle": "2024-04-05T07:58:10.201641Z",
     "shell.execute_reply": "2024-04-05T07:58:10.200580Z"
    },
    "papermill": {
     "duration": 0.149354,
     "end_time": "2024-04-05T07:58:10.204154",
     "exception": false,
     "start_time": "2024-04-05T07:58:10.054800",
     "status": "completed"
    },
    "tags": []
   },
   "outputs": [
    {
     "data": {
      "text/html": [
       "<style type=\"text/css\">\n",
       "#T_eeb0f_row0_col0, #T_eeb0f_row1_col1, #T_eeb0f_row2_col2, #T_eeb0f_row3_col3, #T_eeb0f_row4_col4 {\n",
       "  background-color: #023858;\n",
       "  color: #f1f1f1;\n",
       "}\n",
       "#T_eeb0f_row0_col1, #T_eeb0f_row1_col0 {\n",
       "  background-color: #76aad0;\n",
       "  color: #f1f1f1;\n",
       "}\n",
       "#T_eeb0f_row0_col2, #T_eeb0f_row2_col0 {\n",
       "  background-color: #4295c3;\n",
       "  color: #f1f1f1;\n",
       "}\n",
       "#T_eeb0f_row0_col3, #T_eeb0f_row3_col0 {\n",
       "  background-color: #d7d6e9;\n",
       "  color: #000000;\n",
       "}\n",
       "#T_eeb0f_row0_col4, #T_eeb0f_row2_col3, #T_eeb0f_row3_col2, #T_eeb0f_row4_col0 {\n",
       "  background-color: #f5eff6;\n",
       "  color: #000000;\n",
       "}\n",
       "#T_eeb0f_row1_col2, #T_eeb0f_row2_col1 {\n",
       "  background-color: #dad9ea;\n",
       "  color: #000000;\n",
       "}\n",
       "#T_eeb0f_row1_col3, #T_eeb0f_row3_col1 {\n",
       "  background-color: #d6d6e9;\n",
       "  color: #000000;\n",
       "}\n",
       "#T_eeb0f_row1_col4, #T_eeb0f_row4_col1 {\n",
       "  background-color: #ede7f2;\n",
       "  color: #000000;\n",
       "}\n",
       "#T_eeb0f_row2_col4, #T_eeb0f_row4_col2 {\n",
       "  background-color: #fdf5fa;\n",
       "  color: #000000;\n",
       "}\n",
       "#T_eeb0f_row3_col4, #T_eeb0f_row4_col3 {\n",
       "  background-color: #fff7fb;\n",
       "  color: #000000;\n",
       "}\n",
       "</style>\n",
       "<table id=\"T_eeb0f\">\n",
       "  <thead>\n",
       "    <tr>\n",
       "      <th class=\"blank level0\" >&nbsp;</th>\n",
       "      <th id=\"T_eeb0f_level0_col0\" class=\"col_heading level0 col0\" >ASSET</th>\n",
       "      <th id=\"T_eeb0f_level0_col1\" class=\"col_heading level0 col1\" >HOUSES</th>\n",
       "      <th id=\"T_eeb0f_level0_col2\" class=\"col_heading level0 col2\" >INCOME</th>\n",
       "      <th id=\"T_eeb0f_level0_col3\" class=\"col_heading level0 col3\" >DEBT</th>\n",
       "      <th id=\"T_eeb0f_level0_col4\" class=\"col_heading level0 col4\" >EDUC</th>\n",
       "    </tr>\n",
       "  </thead>\n",
       "  <tbody>\n",
       "    <tr>\n",
       "      <th id=\"T_eeb0f_level0_row0\" class=\"row_heading level0 row0\" >ASSET</th>\n",
       "      <td id=\"T_eeb0f_row0_col0\" class=\"data row0 col0\" >1.000000</td>\n",
       "      <td id=\"T_eeb0f_row0_col1\" class=\"data row0 col1\" >0.519827</td>\n",
       "      <td id=\"T_eeb0f_row0_col2\" class=\"data row0 col2\" >0.622429</td>\n",
       "      <td id=\"T_eeb0f_row0_col3\" class=\"data row0 col3\" >0.261250</td>\n",
       "      <td id=\"T_eeb0f_row0_col4\" class=\"data row0 col4\" >0.116673</td>\n",
       "    </tr>\n",
       "    <tr>\n",
       "      <th id=\"T_eeb0f_level0_row1\" class=\"row_heading level0 row1\" >HOUSES</th>\n",
       "      <td id=\"T_eeb0f_row1_col0\" class=\"data row1 col0\" >0.519827</td>\n",
       "      <td id=\"T_eeb0f_row1_col1\" class=\"data row1 col1\" >1.000000</td>\n",
       "      <td id=\"T_eeb0f_row1_col2\" class=\"data row1 col2\" >0.247852</td>\n",
       "      <td id=\"T_eeb0f_row1_col3\" class=\"data row1 col3\" >0.266661</td>\n",
       "      <td id=\"T_eeb0f_row1_col4\" class=\"data row1 col4\" >0.169300</td>\n",
       "    </tr>\n",
       "    <tr>\n",
       "      <th id=\"T_eeb0f_level0_row2\" class=\"row_heading level0 row2\" >INCOME</th>\n",
       "      <td id=\"T_eeb0f_row2_col0\" class=\"data row2 col0\" >0.622429</td>\n",
       "      <td id=\"T_eeb0f_row2_col1\" class=\"data row2 col1\" >0.247852</td>\n",
       "      <td id=\"T_eeb0f_row2_col2\" class=\"data row2 col2\" >1.000000</td>\n",
       "      <td id=\"T_eeb0f_row2_col3\" class=\"data row2 col3\" >0.114646</td>\n",
       "      <td id=\"T_eeb0f_row2_col4\" class=\"data row2 col4\" >0.069400</td>\n",
       "    </tr>\n",
       "    <tr>\n",
       "      <th id=\"T_eeb0f_level0_row3\" class=\"row_heading level0 row3\" >DEBT</th>\n",
       "      <td id=\"T_eeb0f_row3_col0\" class=\"data row3 col0\" >0.261250</td>\n",
       "      <td id=\"T_eeb0f_row3_col1\" class=\"data row3 col1\" >0.266661</td>\n",
       "      <td id=\"T_eeb0f_row3_col2\" class=\"data row3 col2\" >0.114646</td>\n",
       "      <td id=\"T_eeb0f_row3_col3\" class=\"data row3 col3\" >1.000000</td>\n",
       "      <td id=\"T_eeb0f_row3_col4\" class=\"data row3 col4\" >0.054179</td>\n",
       "    </tr>\n",
       "    <tr>\n",
       "      <th id=\"T_eeb0f_level0_row4\" class=\"row_heading level0 row4\" >EDUC</th>\n",
       "      <td id=\"T_eeb0f_row4_col0\" class=\"data row4 col0\" >0.116673</td>\n",
       "      <td id=\"T_eeb0f_row4_col1\" class=\"data row4 col1\" >0.169300</td>\n",
       "      <td id=\"T_eeb0f_row4_col2\" class=\"data row4 col2\" >0.069400</td>\n",
       "      <td id=\"T_eeb0f_row4_col3\" class=\"data row4 col3\" >0.054179</td>\n",
       "      <td id=\"T_eeb0f_row4_col4\" class=\"data row4 col4\" >1.000000</td>\n",
       "    </tr>\n",
       "  </tbody>\n",
       "</table>\n"
      ],
      "text/plain": [
       "<pandas.io.formats.style.Styler at 0x7d4c2a3e69e0>"
      ]
     },
     "execution_count": 18,
     "metadata": {},
     "output_type": "execute_result"
    }
   ],
   "source": [
    "# Select columns for correlation\n",
    "cols = [\"ASSET\", \"HOUSES\", \"INCOME\", \"DEBT\", \"EDUC\"]\n",
    "# Calculate correlation matrix\n",
    "corr = df[cols].corr()\n",
    "corr.head()\n",
    "# Apply background gradient to correlation\n",
    "corr.style.background_gradient(axis=None)\n"
   ]
  },
  {
   "cell_type": "markdown",
   "id": "264f5072",
   "metadata": {
    "papermill": {
     "duration": 0.024711,
     "end_time": "2024-04-05T07:58:10.253367",
     "exception": false,
     "start_time": "2024-04-05T07:58:10.228656",
     "status": "completed"
    },
    "tags": []
   },
   "source": [
    "Task 6.1.14: Make a correlation matrix using df_fear."
   ]
  },
  {
   "cell_type": "code",
   "execution_count": 19,
   "id": "cc2ef706",
   "metadata": {
    "execution": {
     "iopub.execute_input": "2024-04-05T07:58:10.305819Z",
     "iopub.status.busy": "2024-04-05T07:58:10.305125Z",
     "iopub.status.idle": "2024-04-05T07:58:10.323187Z",
     "shell.execute_reply": "2024-04-05T07:58:10.322211Z"
    },
    "papermill": {
     "duration": 0.047007,
     "end_time": "2024-04-05T07:58:10.325585",
     "exception": false,
     "start_time": "2024-04-05T07:58:10.278578",
     "status": "completed"
    },
    "tags": []
   },
   "outputs": [
    {
     "data": {
      "text/html": [
       "<style type=\"text/css\">\n",
       "#T_1d177_row0_col0, #T_1d177_row1_col1, #T_1d177_row2_col2, #T_1d177_row3_col3, #T_1d177_row4_col4 {\n",
       "  background-color: #023858;\n",
       "  color: #f1f1f1;\n",
       "}\n",
       "#T_1d177_row0_col1, #T_1d177_row1_col0 {\n",
       "  background-color: #65a3cb;\n",
       "  color: #f1f1f1;\n",
       "}\n",
       "#T_1d177_row0_col2, #T_1d177_row2_col0 {\n",
       "  background-color: #1e80b8;\n",
       "  color: #f1f1f1;\n",
       "}\n",
       "#T_1d177_row0_col3, #T_1d177_row3_col0 {\n",
       "  background-color: #99b8d8;\n",
       "  color: #000000;\n",
       "}\n",
       "#T_1d177_row0_col4, #T_1d177_row4_col0 {\n",
       "  background-color: #fff7fb;\n",
       "  color: #000000;\n",
       "}\n",
       "#T_1d177_row1_col2, #T_1d177_row2_col1 {\n",
       "  background-color: #e2dfee;\n",
       "  color: #000000;\n",
       "}\n",
       "#T_1d177_row1_col3, #T_1d177_row3_col1 {\n",
       "  background-color: #034369;\n",
       "  color: #f1f1f1;\n",
       "}\n",
       "#T_1d177_row1_col4, #T_1d177_row4_col1 {\n",
       "  background-color: #f7f0f7;\n",
       "  color: #000000;\n",
       "}\n",
       "#T_1d177_row2_col3, #T_1d177_row3_col2 {\n",
       "  background-color: #f5eff6;\n",
       "  color: #000000;\n",
       "}\n",
       "#T_1d177_row2_col4, #T_1d177_row4_col2 {\n",
       "  background-color: #fcf4fa;\n",
       "  color: #000000;\n",
       "}\n",
       "#T_1d177_row3_col4, #T_1d177_row4_col3 {\n",
       "  background-color: #f4eef6;\n",
       "  color: #000000;\n",
       "}\n",
       "</style>\n",
       "<table id=\"T_1d177\">\n",
       "  <thead>\n",
       "    <tr>\n",
       "      <th class=\"blank level0\" >&nbsp;</th>\n",
       "      <th id=\"T_1d177_level0_col0\" class=\"col_heading level0 col0\" >ASSET</th>\n",
       "      <th id=\"T_1d177_level0_col1\" class=\"col_heading level0 col1\" >HOUSES</th>\n",
       "      <th id=\"T_1d177_level0_col2\" class=\"col_heading level0 col2\" >INCOME</th>\n",
       "      <th id=\"T_1d177_level0_col3\" class=\"col_heading level0 col3\" >DEBT</th>\n",
       "      <th id=\"T_1d177_level0_col4\" class=\"col_heading level0 col4\" >EDUC</th>\n",
       "    </tr>\n",
       "  </thead>\n",
       "  <tbody>\n",
       "    <tr>\n",
       "      <th id=\"T_1d177_level0_row0\" class=\"row_heading level0 row0\" >ASSET</th>\n",
       "      <td id=\"T_1d177_row0_col0\" class=\"data row0 col0\" >1.000000</td>\n",
       "      <td id=\"T_1d177_row0_col1\" class=\"data row0 col1\" >0.583288</td>\n",
       "      <td id=\"T_1d177_row0_col2\" class=\"data row0 col2\" >0.722074</td>\n",
       "      <td id=\"T_1d177_row0_col3\" class=\"data row0 col3\" >0.474658</td>\n",
       "      <td id=\"T_1d177_row0_col4\" class=\"data row0 col4\" >0.113536</td>\n",
       "    </tr>\n",
       "    <tr>\n",
       "      <th id=\"T_1d177_level0_row1\" class=\"row_heading level0 row1\" >HOUSES</th>\n",
       "      <td id=\"T_1d177_row1_col0\" class=\"data row1 col0\" >0.583288</td>\n",
       "      <td id=\"T_1d177_row1_col1\" class=\"data row1 col1\" >1.000000</td>\n",
       "      <td id=\"T_1d177_row1_col2\" class=\"data row1 col2\" >0.264099</td>\n",
       "      <td id=\"T_1d177_row1_col3\" class=\"data row1 col3\" >0.962629</td>\n",
       "      <td id=\"T_1d177_row1_col4\" class=\"data row1 col4\" >0.160348</td>\n",
       "    </tr>\n",
       "    <tr>\n",
       "      <th id=\"T_1d177_level0_row2\" class=\"row_heading level0 row2\" >INCOME</th>\n",
       "      <td id=\"T_1d177_row2_col0\" class=\"data row2 col0\" >0.722074</td>\n",
       "      <td id=\"T_1d177_row2_col1\" class=\"data row2 col1\" >0.264099</td>\n",
       "      <td id=\"T_1d177_row2_col2\" class=\"data row2 col2\" >1.000000</td>\n",
       "      <td id=\"T_1d177_row2_col3\" class=\"data row2 col3\" >0.172393</td>\n",
       "      <td id=\"T_1d177_row2_col4\" class=\"data row2 col4\" >0.133170</td>\n",
       "    </tr>\n",
       "    <tr>\n",
       "      <th id=\"T_1d177_level0_row3\" class=\"row_heading level0 row3\" >DEBT</th>\n",
       "      <td id=\"T_1d177_row3_col0\" class=\"data row3 col0\" >0.474658</td>\n",
       "      <td id=\"T_1d177_row3_col1\" class=\"data row3 col1\" >0.962629</td>\n",
       "      <td id=\"T_1d177_row3_col2\" class=\"data row3 col2\" >0.172393</td>\n",
       "      <td id=\"T_1d177_row3_col3\" class=\"data row3 col3\" >1.000000</td>\n",
       "      <td id=\"T_1d177_row3_col4\" class=\"data row3 col4\" >0.177386</td>\n",
       "    </tr>\n",
       "    <tr>\n",
       "      <th id=\"T_1d177_level0_row4\" class=\"row_heading level0 row4\" >EDUC</th>\n",
       "      <td id=\"T_1d177_row4_col0\" class=\"data row4 col0\" >0.113536</td>\n",
       "      <td id=\"T_1d177_row4_col1\" class=\"data row4 col1\" >0.160348</td>\n",
       "      <td id=\"T_1d177_row4_col2\" class=\"data row4 col2\" >0.133170</td>\n",
       "      <td id=\"T_1d177_row4_col3\" class=\"data row4 col3\" >0.177386</td>\n",
       "      <td id=\"T_1d177_row4_col4\" class=\"data row4 col4\" >1.000000</td>\n",
       "    </tr>\n",
       "  </tbody>\n",
       "</table>\n"
      ],
      "text/plain": [
       "<pandas.io.formats.style.Styler at 0x7d4c2a249750>"
      ]
     },
     "execution_count": 19,
     "metadata": {},
     "output_type": "execute_result"
    }
   ],
   "source": [
    "corr = df_fear[cols].corr()\n",
    "corr.style.background_gradient(axis=None)"
   ]
  },
  {
   "cell_type": "markdown",
   "id": "e063c2f8",
   "metadata": {
    "papermill": {
     "duration": 0.024253,
     "end_time": "2024-04-05T07:58:10.374845",
     "exception": false,
     "start_time": "2024-04-05T07:58:10.350592",
     "status": "completed"
    },
    "tags": []
   },
   "source": [
    "There are some pretty important differences here! The relationship between \"DEBT\" and \"HOUSES\" is positive for both datasets, but while the coefficient for df is fairly weak at 0.26, the same number for df_fear is 0.96.\n",
    "\n",
    "Remember, the closer a correlation coefficient is to 1.0, the more exactly they correspond. In this case, that means the value of the primary residence and the total debt held by the household is getting pretty close to being the same. This suggests that the main source of debt being carried by our \"TURNFEAR\" folks is their primary residence, which, again, is an intuitive finding.\n",
    "\n",
    "\"DEBT\" and \"ASSET\" share a similarly striking difference, as do \"EDUC\" and \"DEBT\" which, while not as extreme a contrast as the other, is still big enough to catch the interest of our hypothetical banker."
   ]
  },
  {
   "cell_type": "markdown",
   "id": "0ed47980",
   "metadata": {
    "papermill": {
     "duration": 0.02489,
     "end_time": "2024-04-05T07:58:10.424404",
     "exception": false,
     "start_time": "2024-04-05T07:58:10.399514",
     "status": "completed"
    },
    "tags": []
   },
   "source": [
    "Task 6.1.15: Create a DataFrame df_educ that shows the normalized frequency for education categories for both the credit fearful and non-credit fearful households in the dataset. This will be similar in format to df_inccat, but focus on education. Note that you don't need to replace the numerical values in \"EDUC\" with the true labels."
   ]
  },
  {
   "cell_type": "code",
   "execution_count": 20,
   "id": "e225fc6d",
   "metadata": {
    "execution": {
     "iopub.execute_input": "2024-04-05T07:58:10.478074Z",
     "iopub.status.busy": "2024-04-05T07:58:10.477193Z",
     "iopub.status.idle": "2024-04-05T07:58:10.501930Z",
     "shell.execute_reply": "2024-04-05T07:58:10.500372Z"
    },
    "papermill": {
     "duration": 0.055648,
     "end_time": "2024-04-05T07:58:10.504833",
     "exception": false,
     "start_time": "2024-04-05T07:58:10.449185",
     "status": "completed"
    },
    "tags": []
   },
   "outputs": [
    {
     "data": {
      "text/html": [
       "<div>\n",
       "<style scoped>\n",
       "    .dataframe tbody tr th:only-of-type {\n",
       "        vertical-align: middle;\n",
       "    }\n",
       "\n",
       "    .dataframe tbody tr th {\n",
       "        vertical-align: top;\n",
       "    }\n",
       "\n",
       "    .dataframe thead th {\n",
       "        text-align: right;\n",
       "    }\n",
       "</style>\n",
       "<table border=\"1\" class=\"dataframe\">\n",
       "  <thead>\n",
       "    <tr style=\"text-align: right;\">\n",
       "      <th></th>\n",
       "      <th>TURNFEAR</th>\n",
       "      <th>EDUC</th>\n",
       "      <th>frequency</th>\n",
       "    </tr>\n",
       "  </thead>\n",
       "  <tbody>\n",
       "    <tr>\n",
       "      <th>0</th>\n",
       "      <td>0</td>\n",
       "      <td>12</td>\n",
       "      <td>0.257481</td>\n",
       "    </tr>\n",
       "    <tr>\n",
       "      <th>1</th>\n",
       "      <td>0</td>\n",
       "      <td>8</td>\n",
       "      <td>0.192029</td>\n",
       "    </tr>\n",
       "    <tr>\n",
       "      <th>2</th>\n",
       "      <td>0</td>\n",
       "      <td>13</td>\n",
       "      <td>0.149823</td>\n",
       "    </tr>\n",
       "    <tr>\n",
       "      <th>3</th>\n",
       "      <td>0</td>\n",
       "      <td>9</td>\n",
       "      <td>0.129833</td>\n",
       "    </tr>\n",
       "    <tr>\n",
       "      <th>4</th>\n",
       "      <td>0</td>\n",
       "      <td>14</td>\n",
       "      <td>0.096117</td>\n",
       "    </tr>\n",
       "    <tr>\n",
       "      <th>5</th>\n",
       "      <td>0</td>\n",
       "      <td>10</td>\n",
       "      <td>0.051150</td>\n",
       "    </tr>\n",
       "    <tr>\n",
       "      <th>6</th>\n",
       "      <td>0</td>\n",
       "      <td>11</td>\n",
       "      <td>0.046492</td>\n",
       "    </tr>\n",
       "    <tr>\n",
       "      <th>7</th>\n",
       "      <td>0</td>\n",
       "      <td>7</td>\n",
       "      <td>0.019578</td>\n",
       "    </tr>\n",
       "    <tr>\n",
       "      <th>8</th>\n",
       "      <td>0</td>\n",
       "      <td>4</td>\n",
       "      <td>0.012035</td>\n",
       "    </tr>\n",
       "    <tr>\n",
       "      <th>9</th>\n",
       "      <td>0</td>\n",
       "      <td>6</td>\n",
       "      <td>0.011953</td>\n",
       "    </tr>\n",
       "    <tr>\n",
       "      <th>10</th>\n",
       "      <td>0</td>\n",
       "      <td>3</td>\n",
       "      <td>0.011211</td>\n",
       "    </tr>\n",
       "    <tr>\n",
       "      <th>11</th>\n",
       "      <td>0</td>\n",
       "      <td>5</td>\n",
       "      <td>0.010758</td>\n",
       "    </tr>\n",
       "    <tr>\n",
       "      <th>12</th>\n",
       "      <td>0</td>\n",
       "      <td>2</td>\n",
       "      <td>0.005770</td>\n",
       "    </tr>\n",
       "    <tr>\n",
       "      <th>13</th>\n",
       "      <td>0</td>\n",
       "      <td>1</td>\n",
       "      <td>0.004534</td>\n",
       "    </tr>\n",
       "    <tr>\n",
       "      <th>14</th>\n",
       "      <td>0</td>\n",
       "      <td>-1</td>\n",
       "      <td>0.001237</td>\n",
       "    </tr>\n",
       "    <tr>\n",
       "      <th>15</th>\n",
       "      <td>1</td>\n",
       "      <td>8</td>\n",
       "      <td>0.293532</td>\n",
       "    </tr>\n",
       "    <tr>\n",
       "      <th>16</th>\n",
       "      <td>1</td>\n",
       "      <td>9</td>\n",
       "      <td>0.212200</td>\n",
       "    </tr>\n",
       "    <tr>\n",
       "      <th>17</th>\n",
       "      <td>1</td>\n",
       "      <td>12</td>\n",
       "      <td>0.138438</td>\n",
       "    </tr>\n",
       "    <tr>\n",
       "      <th>18</th>\n",
       "      <td>1</td>\n",
       "      <td>13</td>\n",
       "      <td>0.065109</td>\n",
       "    </tr>\n",
       "    <tr>\n",
       "      <th>19</th>\n",
       "      <td>1</td>\n",
       "      <td>10</td>\n",
       "      <td>0.060999</td>\n",
       "    </tr>\n",
       "    <tr>\n",
       "      <th>20</th>\n",
       "      <td>1</td>\n",
       "      <td>11</td>\n",
       "      <td>0.054077</td>\n",
       "    </tr>\n",
       "    <tr>\n",
       "      <th>21</th>\n",
       "      <td>1</td>\n",
       "      <td>7</td>\n",
       "      <td>0.043478</td>\n",
       "    </tr>\n",
       "    <tr>\n",
       "      <th>22</th>\n",
       "      <td>1</td>\n",
       "      <td>6</td>\n",
       "      <td>0.041099</td>\n",
       "    </tr>\n",
       "    <tr>\n",
       "      <th>23</th>\n",
       "      <td>1</td>\n",
       "      <td>14</td>\n",
       "      <td>0.024876</td>\n",
       "    </tr>\n",
       "    <tr>\n",
       "      <th>24</th>\n",
       "      <td>1</td>\n",
       "      <td>4</td>\n",
       "      <td>0.017305</td>\n",
       "    </tr>\n",
       "    <tr>\n",
       "      <th>25</th>\n",
       "      <td>1</td>\n",
       "      <td>5</td>\n",
       "      <td>0.015358</td>\n",
       "    </tr>\n",
       "    <tr>\n",
       "      <th>26</th>\n",
       "      <td>1</td>\n",
       "      <td>2</td>\n",
       "      <td>0.012979</td>\n",
       "    </tr>\n",
       "    <tr>\n",
       "      <th>27</th>\n",
       "      <td>1</td>\n",
       "      <td>3</td>\n",
       "      <td>0.011897</td>\n",
       "    </tr>\n",
       "    <tr>\n",
       "      <th>28</th>\n",
       "      <td>1</td>\n",
       "      <td>1</td>\n",
       "      <td>0.005408</td>\n",
       "    </tr>\n",
       "    <tr>\n",
       "      <th>29</th>\n",
       "      <td>1</td>\n",
       "      <td>-1</td>\n",
       "      <td>0.003245</td>\n",
       "    </tr>\n",
       "  </tbody>\n",
       "</table>\n",
       "</div>"
      ],
      "text/plain": [
       "    TURNFEAR  EDUC  frequency\n",
       "0          0    12   0.257481\n",
       "1          0     8   0.192029\n",
       "2          0    13   0.149823\n",
       "3          0     9   0.129833\n",
       "4          0    14   0.096117\n",
       "5          0    10   0.051150\n",
       "6          0    11   0.046492\n",
       "7          0     7   0.019578\n",
       "8          0     4   0.012035\n",
       "9          0     6   0.011953\n",
       "10         0     3   0.011211\n",
       "11         0     5   0.010758\n",
       "12         0     2   0.005770\n",
       "13         0     1   0.004534\n",
       "14         0    -1   0.001237\n",
       "15         1     8   0.293532\n",
       "16         1     9   0.212200\n",
       "17         1    12   0.138438\n",
       "18         1    13   0.065109\n",
       "19         1    10   0.060999\n",
       "20         1    11   0.054077\n",
       "21         1     7   0.043478\n",
       "22         1     6   0.041099\n",
       "23         1    14   0.024876\n",
       "24         1     4   0.017305\n",
       "25         1     5   0.015358\n",
       "26         1     2   0.012979\n",
       "27         1     3   0.011897\n",
       "28         1     1   0.005408\n",
       "29         1    -1   0.003245"
      ]
     },
     "execution_count": 20,
     "metadata": {},
     "output_type": "execute_result"
    }
   ],
   "source": [
    "# Group EDUC column by TURNFEAR\n",
    "# Count occurrences, normalize\n",
    "df_educ = (\n",
    "    df[\"EDUC\"]\n",
    "    .groupby(df[\"TURNFEAR\"])\n",
    "    .value_counts(normalize=True)\n",
    "    .rename(\"frequency\")\n",
    "    .to_frame()\n",
    "    .reset_index()\n",
    ")\n",
    "# Display df_educ\n",
    "df_educ\n"
   ]
  },
  {
   "cell_type": "markdown",
   "id": "faffd83e",
   "metadata": {
    "papermill": {
     "duration": 0.025315,
     "end_time": "2024-04-05T07:58:10.557397",
     "exception": false,
     "start_time": "2024-04-05T07:58:10.532082",
     "status": "completed"
    },
    "tags": []
   },
   "source": [
    "Task 6.1.16: Using seaborn, create a side-by-side bar chart of df_educ. Set hue to \"TURNFEAR\", and make sure that the education categories are in the correct order along the x-axis. Label to the x-axis \"Education Level\", the y-axis \"Frequency (%)\", and use the title \"Educational Attainment: Credit Fearful vs. Non-fearful\"."
   ]
  },
  {
   "cell_type": "code",
   "execution_count": 21,
   "id": "a889374a",
   "metadata": {
    "execution": {
     "iopub.execute_input": "2024-04-05T07:58:10.610706Z",
     "iopub.status.busy": "2024-04-05T07:58:10.610222Z",
     "iopub.status.idle": "2024-04-05T07:58:11.215722Z",
     "shell.execute_reply": "2024-04-05T07:58:11.214114Z"
    },
    "papermill": {
     "duration": 0.636902,
     "end_time": "2024-04-05T07:58:11.219498",
     "exception": false,
     "start_time": "2024-04-05T07:58:10.582596",
     "status": "completed"
    },
    "tags": []
   },
   "outputs": [
    {
     "data": {
      "image/png": "[encoded data removed]",
      "text/plain": [
       "<Figure size 640x480 with 1 Axes>"
      ]
     },
     "metadata": {},
     "output_type": "display_data"
    }
   ],
   "source": [
    "# Create bar plot with seaborn\n",
    "sns.barplot(\n",
    "    x=\"EDUC\",                 # X-axis: Education Level\n",
    "    y=\"frequency\",            # Y-axis: Frequency (%)\n",
    "    hue=\"TURNFEAR\",           # Color by TURNFEAR\n",
    "    data=df_educ              # Data from df_educ\n",
    ")\n",
    "\n",
    "# Label x-axis\n",
    "plt.xlabel(\"Education Level\")\n",
    "\n",
    "# Label y-axis\n",
    "plt.ylabel(\"Frequency (%)\")\n",
    "\n",
    "# Set title\n",
    "plt.title(\"Educational Attainment: Credit Fearful vs. Non-fearful\");"
   ]
  },
  {
   "cell_type": "markdown",
   "id": "5d312483",
   "metadata": {
    "papermill": {
     "duration": 0.025327,
     "end_time": "2024-04-05T07:58:11.270611",
     "exception": false,
     "start_time": "2024-04-05T07:58:11.245284",
     "status": "completed"
    },
    "tags": []
   },
   "source": [
    "In this plot, we can see that a much higher proportion of credit-fearful respondents have only a high school diploma, while university degrees are more common among the non-credit fearful."
   ]
  },
  {
   "cell_type": "markdown",
   "id": "a6edc16b",
   "metadata": {
    "papermill": {
     "duration": 0.026952,
     "end_time": "2024-04-05T07:58:11.323821",
     "exception": false,
     "start_time": "2024-04-05T07:58:11.296869",
     "status": "completed"
    },
    "tags": []
   },
   "source": [
    "`d. Debt`"
   ]
  },
  {
   "cell_type": "markdown",
   "id": "fb515a49",
   "metadata": {
    "papermill": {
     "duration": 0.025852,
     "end_time": "2024-04-05T07:58:11.376088",
     "exception": false,
     "start_time": "2024-04-05T07:58:11.350236",
     "status": "completed"
    },
    "tags": []
   },
   "source": [
    "Task 6.1.17: Use df to make a scatter plot showing the relationship between DEBT and ASSET."
   ]
  },
  {
   "cell_type": "code",
   "execution_count": 22,
   "id": "e8732309",
   "metadata": {
    "execution": {
     "iopub.execute_input": "2024-04-05T07:58:11.431048Z",
     "iopub.status.busy": "2024-04-05T07:58:11.430577Z",
     "iopub.status.idle": "2024-04-05T07:58:12.336956Z",
     "shell.execute_reply": "2024-04-05T07:58:12.335668Z"
    },
    "papermill": {
     "duration": 0.937139,
     "end_time": "2024-04-05T07:58:12.339914",
     "exception": false,
     "start_time": "2024-04-05T07:58:11.402775",
     "status": "completed"
    },
    "tags": []
   },
   "outputs": [
    {
     "data": {
      "image/png": "[encoded data removed]",
      "text/plain": [
       "<Figure size 640x480 with 1 Axes>"
      ]
     },
     "metadata": {},
     "output_type": "display_data"
    }
   ],
   "source": [
    "# Create scatter plot of ASSET vs DEBT, df\n",
    "df.plot.scatter(\n",
    "    x=\"DEBT\",\n",
    "    y=\"ASSET\"\n",
    ");"
   ]
  },
  {
   "cell_type": "markdown",
   "id": "51f4d838",
   "metadata": {
    "papermill": {
     "duration": 0.026611,
     "end_time": "2024-04-05T07:58:12.393037",
     "exception": false,
     "start_time": "2024-04-05T07:58:12.366426",
     "status": "completed"
    },
    "tags": []
   },
   "source": [
    "Task 6.1.18: Use df_fear to make a scatter plot showing the relationship between DEBT and ASSET."
   ]
  },
  {
   "cell_type": "code",
   "execution_count": 23,
   "id": "b473436f",
   "metadata": {
    "execution": {
     "iopub.execute_input": "2024-04-05T07:58:12.448585Z",
     "iopub.status.busy": "2024-04-05T07:58:12.448106Z",
     "iopub.status.idle": "2024-04-05T07:58:12.845060Z",
     "shell.execute_reply": "2024-04-05T07:58:12.843711Z"
    },
    "papermill": {
     "duration": 0.428731,
     "end_time": "2024-04-05T07:58:12.848289",
     "exception": false,
     "start_time": "2024-04-05T07:58:12.419558",
     "status": "completed"
    },
    "tags": []
   },
   "outputs": [
    {
     "data": {
      "image/png": "[encoded data removed]",
      "text/plain": [
       "<Figure size 640x480 with 1 Axes>"
      ]
     },
     "metadata": {},
     "output_type": "display_data"
    }
   ],
   "source": [
    "# Create scatter plot of ASSET vs DEBT, df_fear\n",
    "df_fear.plot.scatter(\n",
    "    x=\"DEBT\",\n",
    "    y=\"ASSET\"\n",
    "\n",
    ");"
   ]
  },
  {
   "cell_type": "markdown",
   "id": "91422990",
   "metadata": {
    "papermill": {
     "duration": 0.026078,
     "end_time": "2024-04-05T07:58:12.901113",
     "exception": false,
     "start_time": "2024-04-05T07:58:12.875035",
     "status": "completed"
    },
    "tags": []
   },
   "source": [
    "You can see relationship in our df_fear graph is flatter than the one in our df graph, but they clearly are different.\n",
    "\n",
    "Let's end with the most striking difference from our matrices, and make some scatter plots showing the difference between HOUSES and DEBT."
   ]
  },
  {
   "cell_type": "markdown",
   "id": "1fd3398d",
   "metadata": {
    "papermill": {
     "duration": 0.026204,
     "end_time": "2024-04-05T07:58:12.953956",
     "exception": false,
     "start_time": "2024-04-05T07:58:12.927752",
     "status": "completed"
    },
    "tags": []
   },
   "source": [
    "> Task 6.1.19: Use df to make a scatter plot showing the relationship between HOUSES and DEBT."
   ]
  },
  {
   "cell_type": "code",
   "execution_count": 24,
   "id": "66519c25",
   "metadata": {
    "execution": {
     "iopub.execute_input": "2024-04-05T07:58:13.009314Z",
     "iopub.status.busy": "2024-04-05T07:58:13.008821Z",
     "iopub.status.idle": "2024-04-05T07:58:13.743691Z",
     "shell.execute_reply": "2024-04-05T07:58:13.742259Z"
    },
    "papermill": {
     "duration": 0.766173,
     "end_time": "2024-04-05T07:58:13.746693",
     "exception": false,
     "start_time": "2024-04-05T07:58:12.980520",
     "status": "completed"
    },
    "tags": []
   },
   "outputs": [
    {
     "data": {
      "image/png": "[encoded data removed]",
      "text/plain": [
       "<Figure size 640x480 with 1 Axes>"
      ]
     },
     "metadata": {},
     "output_type": "display_data"
    }
   ],
   "source": [
    "# Create scatter plot of HOUSES vs DEBT, df\n",
    "df.plot.scatter(\n",
    "    x=\"DEBT\",\n",
    "    y=\"HOUSES\"\n",
    ");"
   ]
  },
  {
   "cell_type": "markdown",
   "id": "2d1cf9b2",
   "metadata": {
    "papermill": {
     "duration": 0.027453,
     "end_time": "2024-04-05T07:58:13.802552",
     "exception": false,
     "start_time": "2024-04-05T07:58:13.775099",
     "status": "completed"
    },
    "tags": []
   },
   "source": [
    "And make the same scatter plot using `df_fear.`"
   ]
  },
  {
   "cell_type": "markdown",
   "id": "d156d710",
   "metadata": {
    "papermill": {
     "duration": 0.026563,
     "end_time": "2024-04-05T07:58:13.856116",
     "exception": false,
     "start_time": "2024-04-05T07:58:13.829553",
     "status": "completed"
    },
    "tags": []
   },
   "source": [
    "Task 6.1.20: Use df_fear to make a scatter plot showing the relationship between HOUSES and DEBT."
   ]
  },
  {
   "cell_type": "code",
   "execution_count": 25,
   "id": "6ce66961",
   "metadata": {
    "execution": {
     "iopub.execute_input": "2024-04-05T07:58:13.913484Z",
     "iopub.status.busy": "2024-04-05T07:58:13.913036Z",
     "iopub.status.idle": "2024-04-05T07:58:14.286860Z",
     "shell.execute_reply": "2024-04-05T07:58:14.285568Z"
    },
    "papermill": {
     "duration": 0.405984,
     "end_time": "2024-04-05T07:58:14.290104",
     "exception": false,
     "start_time": "2024-04-05T07:58:13.884120",
     "status": "completed"
    },
    "tags": []
   },
   "outputs": [
    {
     "data": {
      "image/png": "[encoded data removed]",
      "text/plain": [
       "<Figure size 640x480 with 1 Axes>"
      ]
     },
     "metadata": {},
     "output_type": "display_data"
    }
   ],
   "source": [
    "# Create scatter plot of HOUSES vs DEBT, df_fear\n",
    "df_fear.plot.scatter(\n",
    "    x=\"DEBT\",\n",
    "    y=\"HOUSES\"\n",
    ");"
   ]
  },
  {
   "cell_type": "markdown",
   "id": "1bb5df51",
   "metadata": {
    "papermill": {
     "duration": 0.028349,
     "end_time": "2024-04-05T07:58:14.345966",
     "exception": false,
     "start_time": "2024-04-05T07:58:14.317617",
     "status": "completed"
    },
    "tags": []
   },
   "source": [
    "**The outliers make it a little difficult to see the difference between these two plots, but the relationship is clear enough: our `df_fear` graph shows an almost perfect linear relationship, while our `df` graph shows something a little more muddled. You might also notice that the datapoints on the `df_fear` graph form several little groups. Those are called \"clusters,\""
   ]
  }
 ],
 "metadata": {
  "kaggle": {
   "accelerator": "none",
   "dataSources": [
    {
     "datasetId": 4736220,
     "sourceId": 8034632,
     "sourceType": "datasetVersion"
    },
    {
     "datasetId": 4736245,
     "sourceId": 8034662,
     "sourceType": "datasetVersion"
    }
   ],
   "dockerImageVersionId": 30673,
   "isGpuEnabled": false,
   "isInternetEnabled": true,
   "language": "python",
   "sourceType": "notebook"
  },
  "kernelspec": {
   "display_name": "Python 3",
   "language": "python",
   "name": "python3"
  },
  "language_info": {
   "codemirror_mode": {
    "name": "ipython",
    "version": 3
   },
   "file_extension": ".py",
   "mimetype": "text/x-python",
   "name": "python",
   "nbconvert_exporter": "python",
   "pygments_lexer": "ipython3",
   "version": "3.10.13"
  },
  "papermill": {
   "default_parameters": {},
   "duration": 17.889637,
   "end_time": "2024-04-05T07:58:15.299332",
   "environment_variables": {},
   "exception": null,
   "input_path": "__notebook__.ipynb",
   "output_path": "__notebook__.ipynb",
   "parameters": {},
   "start_time": "2024-04-05T07:57:57.409695",
   "version": "2.5.0"
  }
 },
 "nbformat": 4,
 "nbformat_minor": 5
}
